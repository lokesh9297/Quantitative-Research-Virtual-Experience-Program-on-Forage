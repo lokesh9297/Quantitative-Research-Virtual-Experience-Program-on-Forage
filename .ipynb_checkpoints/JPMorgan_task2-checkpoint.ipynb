{
 "cells": [
  {
   "cell_type": "code",
   "execution_count": 1,
   "id": "0f255805-b3d3-4b00-9486-241081d40ce5",
   "metadata": {},
   "outputs": [],
   "source": [
    "from datetime import date\n",
    "import math\n",
    "\n",
    "def price_contract(in_dates, in_prices, out_dates, out_prices, rate, storage_cost_rate, total_vol, injection_withdrawal_cost_rate):\n",
    "    volume = 0\n",
    "    buy_cost = 0\n",
    "    cash_in = 0\n",
    "    last_date = min(min(in_dates), min(out_dates))\n",
    "    \n",
    "    # Ensure dates are in sequence\n",
    "    all_dates = sorted(set(in_dates + out_dates))\n",
    "    \n",
    "    for i in range(len(all_dates)):\n",
    "        # processing code for each date\n",
    "        start_date = all_dates[i]\n",
    "\n",
    "        if start_date in in_dates:\n",
    "            # Inject on these dates and sum up cash flows\n",
    "            if volume <= total_vol - rate:\n",
    "                volume += rate\n",
    "\n",
    "                # Cost to purchase gas\n",
    "                buy_cost += rate * in_prices[in_dates.index(start_date)]\n",
    "                # Injection cost\n",
    "                injection_cost = rate * injection_withdrawal_cost_rate\n",
    "                buy_cost += injection_cost\n",
    "                print('Injected gas on %s at a price of %s'%(start_date, in_prices[in_dates.index(start_date)]))\n",
    "\n",
    "            else:\n",
    "                # We do not want to inject when rate is greater than total volume minus volume\n",
    "                print('Injection is not possible on date %s as there is insufficient space in the storage facility'%start_date)\n",
    "        elif start_date in out_dates:\n",
    "            #Withdraw on these dates and sum cash flows\n",
    "            if volume >= rate:\n",
    "                volume -= rate\n",
    "                cash_in += rate * out_prices[out_dates.index(start_date)]\n",
    "                # Withdrawal cost\n",
    "                withdrawal_cost = rate * injection_withdrawal_cost_rate\n",
    "                cash_in -= withdrawal_cost\n",
    "                print('Extracted gas on %s at a price of %s'%(start_date, out_prices[out_dates.index(start_date)]))\n",
    "            else:\n",
    "                # we cannot withdraw more gas than is actually stored\n",
    "                print('Extraction is not possible on date %s as there is insufficient volume of gas stored'%start_date)\n",
    "                \n",
    "    store_cost = math.ceil((max(out_dates) - min(in_dates)).days // 30) * storage_cost_rate\n",
    "    return cash_in - store_cost - buy_cost"
   ]
  },
  {
   "cell_type": "code",
   "execution_count": 2,
   "id": "c30d003f-0e94-4d45-92cf-4e5185c5a032",
   "metadata": {},
   "outputs": [
    {
     "name": "stdout",
     "output_type": "stream",
     "text": [
      "Injected gas on 2022-01-01 at a price of 20\n",
      "Extracted gas on 2022-01-27 at a price of 23\n",
      "Injected gas on 2022-02-01 at a price of 21\n",
      "Extracted gas on 2022-02-15 at a price of 19\n",
      "Injected gas on 2022-02-21 at a price of 20.5\n",
      "Extracted gas on 2022-03-20 at a price of 21\n",
      "Injected gas on 2022-04-01 at a price of 22\n",
      "Extracted gas on 2022-06-01 at a price of 25\n",
      "\n",
      "The value of the contract is: $399600.0\n"
     ]
    }
   ],
   "source": [
    "# Example usage of price_contract()\n",
    "in_dates = [date(2022, 1, 1), date(2022, 2, 1), date(2022, 2, 21), date(2022, 4, 1)] #injection dates\n",
    "in_prices = [20, 21, 20.5, 22]#prices on the injection days\n",
    "out_dates = [date(2022, 1, 27), date(2022, 2, 15), date(2022, 3, 20), date(2022, 6, 1)] # extraction dates\n",
    "out_prices = [23, 19, 21, 25] # prices on the extraction days\n",
    "rate = 100000  # rate of gas in cubic feet per day\n",
    "storage_cost_rate = 10000  # total volume in cubic feet\n",
    "injection_withdrawal_cost_rate = 0.0005  # $/cf\n",
    "max_storage_volume = 500000 # maximum storage capacity of the storage facility\n",
    "result = price_contract(in_dates, in_prices, out_dates, out_prices, rate, storage_cost_rate, max_storage_volume, injection_withdrawal_cost_rate)\n",
    "print()\n",
    "print(f\"The value of the contract is: ${result}\")"
   ]
  },
  {
   "cell_type": "code",
   "execution_count": null,
   "id": "2cc39f81-ec8e-49c1-bd2b-6cc7f7a59888",
   "metadata": {},
   "outputs": [],
   "source": []
  }
 ],
 "metadata": {
  "kernelspec": {
   "display_name": "Python 3 (ipykernel)",
   "language": "python",
   "name": "python3"
  },
  "language_info": {
   "codemirror_mode": {
    "name": "ipython",
    "version": 3
   },
   "file_extension": ".py",
   "mimetype": "text/x-python",
   "name": "python",
   "nbconvert_exporter": "python",
   "pygments_lexer": "ipython3",
   "version": "3.12.1"
  }
 },
 "nbformat": 4,
 "nbformat_minor": 5
}
