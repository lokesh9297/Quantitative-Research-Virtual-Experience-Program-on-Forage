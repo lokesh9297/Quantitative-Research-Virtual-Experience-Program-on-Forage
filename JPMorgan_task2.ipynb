{
 "cells": [
  {
   "cell_type": "code",
   "execution_count": 4,
   "id": "092aa781-27fa-4111-b7ba-6939de265c70",
   "metadata": {},
   "outputs": [],
   "source": [
    "import pandas as pd\n",
    "import numpy as np\n",
    "from matplotlib import pyplot as plt\n",
    "from datetime import date, timedelta\n"
   ]
  },
  {
   "cell_type": "code",
   "execution_count": 5,
   "id": "e93ed031-c386-4e6c-82cb-4ce38dac4b89",
   "metadata": {},
   "outputs": [],
   "source": [
    "def price_contract(injection_dates, withdrawal_dates, prices, rate, capacity, storage_costs):\n",
    "\n",
    "    for injection_date in injection_dates:\n",
    "        if injection_date not in prices.index:\n",
    "            raise ValueError(\"Injection date {} is not in the price data\".format(injection_date))\n",
    "    for withdrawal_date in withdrawal_dates:\n",
    "        if withdrawal_date not in prices.index:\n",
    "            raise ValueError(\"Withdrawal date {} is not in the price data\".format(withdrawal_date))\n",
    "\n",
    "    # the total gas injected\n",
    "    injected_gas = np.sum([prices[injection_date] * rate * timedelta(days=1) for injection_date in injection_dates])\n",
    "\n",
    "    # the total gas withdrawn\n",
    "    withdrawn_gas = np.sum([prices[withdrawal_date] * rate * timedelta(days=1) for withdrawal_date in withdrawal_dates])\n",
    "\n",
    "    # the storage fees\n",
    "    storage_fees = np.sum([storage_costs * timedelta(days=1) for injection_date in injection_dates])\n",
    "\n",
    "    # the value of the contract\n",
    "    value = withdrawn_gas - injected_gas - storage_fees\n",
    "\n",
    "    return value\n"
   ]
  },
  {
   "cell_type": "code",
   "execution_count": 6,
   "id": "d6d18804-29f0-4b71-95b0-f4e461249bb6",
   "metadata": {},
   "outputs": [
    {
     "name": "stderr",
     "output_type": "stream",
     "text": [
      "C:\\Users\\lky24\\AppData\\Local\\Temp\\ipykernel_21652\\747779637.py:7: UserWarning: Could not infer format, so each element will be parsed individually, falling back to `dateutil`. To ensure parsing is consistent and as-expected, please specify a format.\n",
      "  Gas_price_data['Dates'] = pd.to_datetime(Gas_price_data['Dates'])\n"
     ]
    },
    {
     "ename": "ValueError",
     "evalue": "Injection date 2021-01-01 00:00:00 is not in the price data",
     "output_type": "error",
     "traceback": [
      "\u001b[1;31m---------------------------------------------------------------------------\u001b[0m",
      "\u001b[1;31mValueError\u001b[0m                                Traceback (most recent call last)",
      "Cell \u001b[1;32mIn[6], line 18\u001b[0m\n\u001b[0;32m     15\u001b[0m storage_costs \u001b[38;5;241m=\u001b[39m \u001b[38;5;241m1000\u001b[39m\n\u001b[0;32m     17\u001b[0m \u001b[38;5;66;03m# the value of the contract\u001b[39;00m\n\u001b[1;32m---> 18\u001b[0m value \u001b[38;5;241m=\u001b[39m \u001b[43mprice_contract\u001b[49m\u001b[43m(\u001b[49m\u001b[43minjection_dates\u001b[49m\u001b[43m,\u001b[49m\u001b[43m \u001b[49m\u001b[43mwithdrawal_dates\u001b[49m\u001b[43m,\u001b[49m\u001b[43mGas_price_data\u001b[49m\u001b[43m,\u001b[49m\u001b[43m \u001b[49m\u001b[43mrate\u001b[49m\u001b[43m,\u001b[49m\u001b[43m \u001b[49m\u001b[43mcapacity\u001b[49m\u001b[43m,\u001b[49m\u001b[43m \u001b[49m\u001b[43mstorage_costs\u001b[49m\u001b[43m)\u001b[49m\n\u001b[0;32m     20\u001b[0m \u001b[38;5;28mprint\u001b[39m(\u001b[38;5;124m\"\u001b[39m\u001b[38;5;124mThe value of the contract is \u001b[39m\u001b[38;5;132;01m{}\u001b[39;00m\u001b[38;5;124m.\u001b[39m\u001b[38;5;124m\"\u001b[39m\u001b[38;5;241m.\u001b[39mformat(value))\n",
      "Cell \u001b[1;32mIn[5], line 5\u001b[0m, in \u001b[0;36mprice_contract\u001b[1;34m(injection_dates, withdrawal_dates, prices, rate, capacity, storage_costs)\u001b[0m\n\u001b[0;32m      3\u001b[0m \u001b[38;5;28;01mfor\u001b[39;00m injection_date \u001b[38;5;129;01min\u001b[39;00m injection_dates:\n\u001b[0;32m      4\u001b[0m     \u001b[38;5;28;01mif\u001b[39;00m injection_date \u001b[38;5;129;01mnot\u001b[39;00m \u001b[38;5;129;01min\u001b[39;00m prices\u001b[38;5;241m.\u001b[39mindex:\n\u001b[1;32m----> 5\u001b[0m         \u001b[38;5;28;01mraise\u001b[39;00m \u001b[38;5;167;01mValueError\u001b[39;00m(\u001b[38;5;124m\"\u001b[39m\u001b[38;5;124mInjection date \u001b[39m\u001b[38;5;132;01m{}\u001b[39;00m\u001b[38;5;124m is not in the price data\u001b[39m\u001b[38;5;124m\"\u001b[39m\u001b[38;5;241m.\u001b[39mformat(injection_date))\n\u001b[0;32m      6\u001b[0m \u001b[38;5;28;01mfor\u001b[39;00m withdrawal_date \u001b[38;5;129;01min\u001b[39;00m withdrawal_dates:\n\u001b[0;32m      7\u001b[0m     \u001b[38;5;28;01mif\u001b[39;00m withdrawal_date \u001b[38;5;129;01mnot\u001b[39;00m \u001b[38;5;129;01min\u001b[39;00m prices\u001b[38;5;241m.\u001b[39mindex:\n",
      "\u001b[1;31mValueError\u001b[0m: Injection date 2021-01-01 00:00:00 is not in the price data"
     ]
    }
   ],
   "source": [
    "\n",
    "# Test the function\n",
    "if __name__ == \"__main__\":\n",
    "\n",
    "    \n",
    "    raw_url=\"Nat_Gas.csv\"\n",
    "    Gas_price_data = pd.read_csv(raw_url)\n",
    "    Gas_price_data['Dates'] = pd.to_datetime(Gas_price_data['Dates'])\n",
    "    Gas_price_data.set_index('Dates', inplace=True)\n",
    "\n",
    "    # input parameters\n",
    "    injection_dates = [pd.to_datetime(\"2021-01-01\"), pd.to_datetime(\"2021-02-01\")]\n",
    "    withdrawal_dates = [pd.to_datetime(\"2021-03-01\"), pd.to_datetime(\"2021-04-01\")]\n",
    "    rate = 1000000\n",
    "    capacity = 10000000\n",
    "    storage_costs = 1000\n",
    "\n",
    "    # the value of the contract\n",
    "    value = price_contract(injection_dates, withdrawal_dates,Gas_price_data, rate, capacity, storage_costs)\n",
    "\n",
    "    print(\"The value of the contract is {}.\".format(value))\n",
    "     "
   ]
  },
  {
   "cell_type": "code",
   "execution_count": null,
   "id": "c30d003f-0e94-4d45-92cf-4e5185c5a032",
   "metadata": {},
   "outputs": [],
   "source": []
  }
 ],
 "metadata": {
  "kernelspec": {
   "display_name": "Python 3 (ipykernel)",
   "language": "python",
   "name": "python3"
  },
  "language_info": {
   "codemirror_mode": {
    "name": "ipython",
    "version": 3
   },
   "file_extension": ".py",
   "mimetype": "text/x-python",
   "name": "python",
   "nbconvert_exporter": "python",
   "pygments_lexer": "ipython3",
   "version": "3.12.1"
  }
 },
 "nbformat": 4,
 "nbformat_minor": 5
}
